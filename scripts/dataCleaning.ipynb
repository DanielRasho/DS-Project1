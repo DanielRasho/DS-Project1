{
 "cells": [
  {
   "cell_type": "markdown",
   "id": "bcf3d91a",
   "metadata": {},
   "source": [
    "### **Importacion de Librerias**"
   ]
  },
  {
   "cell_type": "code",
   "execution_count": 52,
   "id": "efbc4fd7",
   "metadata": {},
   "outputs": [],
   "source": [
    "import pandas as pd\n",
    "from IPython.display import Markdown, display"
   ]
  },
  {
   "cell_type": "markdown",
   "id": "28fd9b65",
   "metadata": {},
   "source": [
    "### **Conversion de csv a Df**"
   ]
  },
  {
   "cell_type": "code",
   "execution_count": 53,
   "id": "a0962c5c",
   "metadata": {},
   "outputs": [],
   "source": [
    "df = pd.read_csv('../data/institutions.csv', encoding='utf-8')"
   ]
  },
  {
   "cell_type": "markdown",
   "id": "53b3181f",
   "metadata": {},
   "source": [
    "### Descripción del Dataset:"
   ]
  },
  {
   "cell_type": "code",
   "execution_count": 54,
   "id": "628b8903",
   "metadata": {},
   "outputs": [],
   "source": [
    "shape = df.shape\n",
    "rows = f\"- **`Número de filas (datos crudos):`** {shape[0]}\"\n",
    "columns = f\"- **`Número de variables (columnas):`** {shape[1]}\""
   ]
  },
  {
   "cell_type": "code",
   "execution_count": 55,
   "id": "5eb1ce3d",
   "metadata": {},
   "outputs": [
    {
     "data": {
      "text/markdown": [
       "- **`Número de filas (datos crudos):`** 56457"
      ],
      "text/plain": [
       "<IPython.core.display.Markdown object>"
      ]
     },
     "metadata": {},
     "output_type": "display_data"
    },
    {
     "data": {
      "text/markdown": [
       "- **`Número de variables (columnas):`** 18"
      ],
      "text/plain": [
       "<IPython.core.display.Markdown object>"
      ]
     },
     "metadata": {},
     "output_type": "display_data"
    }
   ],
   "source": [
    "display(Markdown(rows))\n",
    "display(Markdown(columns))"
   ]
  },
  {
   "cell_type": "markdown",
   "id": "1ec31dd3",
   "metadata": {},
   "source": [
    "### Nombres de las variables:\n",
    "1. `Unnamed: 0` (El indice original del archivo al momento de hacer el scrapping)\n",
    "2. `CODIGO`\n",
    "3. `DISTRITO`\n",
    "4. `DEPARTAMENTO`\n",
    "5. `MUNICIPIO`\n",
    "6. `ESTABLECIMIENTO`\n",
    "7. `DIRECCION`\n",
    "8. `TELEFONO`\n",
    "9. `SUPERVISOR`\n",
    "10. `DIRECTOR`\n",
    "11. `NIVEL`\n",
    "12. `SECTOR`\n",
    "13. `AREA`\n",
    "14. `STATUS`\n",
    "15. `MODALIDAD`\n",
    "16. `JORNADA`\n",
    "17. `PLAN`\n",
    "18. `DEPARTAMENTAL`\n"
   ]
  },
  {
   "cell_type": "markdown",
   "id": "4355998a",
   "metadata": {},
   "source": [
    "Antes de realizar limpieza o transformación, observamos los primeros 5 datos crudos:"
   ]
  },
  {
   "cell_type": "code",
   "execution_count": 56,
   "id": "3a219f6d",
   "metadata": {},
   "outputs": [
    {
     "data": {
      "application/vnd.microsoft.datawrangler.viewer.v0+json": {
       "columns": [
        {
         "name": "index",
         "rawType": "int64",
         "type": "integer"
        },
        {
         "name": "Unnamed: 0",
         "rawType": "int64",
         "type": "integer"
        },
        {
         "name": "CODIGO",
         "rawType": "object",
         "type": "string"
        },
        {
         "name": "DISTRITO",
         "rawType": "object",
         "type": "string"
        },
        {
         "name": "DEPARTAMENTO",
         "rawType": "object",
         "type": "string"
        },
        {
         "name": "MUNICIPIO",
         "rawType": "object",
         "type": "string"
        },
        {
         "name": "ESTABLECIMIENTO",
         "rawType": "object",
         "type": "string"
        },
        {
         "name": "DIRECCION",
         "rawType": "object",
         "type": "string"
        },
        {
         "name": "TELEFONO",
         "rawType": "object",
         "type": "string"
        },
        {
         "name": "SUPERVISOR",
         "rawType": "object",
         "type": "string"
        },
        {
         "name": "DIRECTOR",
         "rawType": "object",
         "type": "string"
        },
        {
         "name": "NIVEL",
         "rawType": "object",
         "type": "string"
        },
        {
         "name": "SECTOR",
         "rawType": "object",
         "type": "string"
        },
        {
         "name": "AREA",
         "rawType": "object",
         "type": "string"
        },
        {
         "name": "STATUS",
         "rawType": "object",
         "type": "string"
        },
        {
         "name": "MODALIDAD",
         "rawType": "object",
         "type": "string"
        },
        {
         "name": "JORNADA",
         "rawType": "object",
         "type": "string"
        },
        {
         "name": "PLAN",
         "rawType": "object",
         "type": "string"
        },
        {
         "name": "DEPARTAMENTAL",
         "rawType": "object",
         "type": "string"
        }
       ],
       "ref": "37bc6bde-b4c9-4c5b-90d7-62c98fc28fe7",
       "rows": [
        [
         "0",
         "0",
         "12-01-0001-42",
         "12-002",
         "SAN MARCOS",
         "SAN MARCOS",
         "EODP NO. 1 \"FRANCISCA SANDOVAL\"",
         "7A. AVENIDA 5-74 ZONA 2",
         "55315928",
         "AMILSA YAMILETH ESTRADA RODRÍGUEZ",
         "ROXANA ELIZABETH LÓPEZ FUENTES",
         "PARVULOS",
         "OFICIAL",
         "URBANA",
         "ABIERTA",
         "MONOLINGUE",
         "MATUTINA",
         "DIARIO(REGULAR)",
         "SAN MARCOS"
        ],
        [
         "1",
         "1",
         "12-01-0002-42",
         "12-002",
         "SAN MARCOS",
         "SAN MARCOS",
         "EODP NO. 2 'GEORGINA RODAS DE ESCOBAR'",
         "AVE. EL REFORMADOR COLONIA JUSTO RUFINO BARRIOS ZONA 5",
         "42914527",
         "AMILSA YAMILETH ESTRADA RODRÍGUEZ",
         "EMILIA MAXIMINA CARDONA BAUTISTA",
         "PARVULOS",
         "OFICIAL",
         "URBANA",
         "ABIERTA",
         "MONOLINGUE",
         "MATUTINA",
         "DIARIO(REGULAR)",
         "SAN MARCOS"
        ],
        [
         "2",
         "2",
         "12-01-0003-42",
         "12-100",
         "SAN MARCOS",
         "SAN MARCOS",
         "COLEGIO PARTICULAR MIXTO SAGRADO CORAZON",
         "10A. AVENIDA 9-71 ZONA 3",
         "77601164",
         "JORGE EBERTO SOLORZANO SANCHEZ",
         "MAGNOLIA ROSALETT CIFUENTES BARRIOS",
         "PARVULOS",
         "PRIVADO",
         "URBANA",
         "ABIERTA",
         "MONOLINGUE",
         "MATUTINA",
         "DIARIO(REGULAR)",
         "SAN MARCOS"
        ],
        [
         "3",
         "3",
         "12-01-0004-42",
         "12-002",
         "SAN MARCOS",
         "SAN MARCOS",
         "COLEGIO EVANGELICO MIXTO NAZARENO",
         "15 AVENIDA 5-36 ZONA 5",
         "44656690",
         "AMILSA YAMILETH ESTRADA RODRÍGUEZ",
         "ENNA DEL CARMEN GIRÓN RODRÍGUEZ",
         "PARVULOS",
         "PRIVADO",
         "URBANA",
         "ABIERTA",
         "MONOLINGUE",
         "MATUTINA",
         "DIARIO(REGULAR)",
         "SAN MARCOS"
        ],
        [
         "4",
         "4",
         "12-01-0006-42",
         "12-002",
         "SAN MARCOS",
         "SAN MARCOS",
         "COLEGIO \"SAN MARCOS\"",
         "6A. AVENIDA, 4-92 ZONA 2",
         "77604147",
         "AMILSA YAMILETH ESTRADA RODRÍGUEZ",
         "SOR CAROLINA PATRICIA MARTÍNEZ TRUJILLO",
         "PARVULOS",
         "PRIVADO",
         "URBANA",
         "ABIERTA",
         "MONOLINGUE",
         "MATUTINA",
         "DIARIO(REGULAR)",
         "SAN MARCOS"
        ]
       ],
       "shape": {
        "columns": 18,
        "rows": 5
       }
      },
      "text/html": [
       "<div>\n",
       "<style scoped>\n",
       "    .dataframe tbody tr th:only-of-type {\n",
       "        vertical-align: middle;\n",
       "    }\n",
       "\n",
       "    .dataframe tbody tr th {\n",
       "        vertical-align: top;\n",
       "    }\n",
       "\n",
       "    .dataframe thead th {\n",
       "        text-align: right;\n",
       "    }\n",
       "</style>\n",
       "<table border=\"1\" class=\"dataframe\">\n",
       "  <thead>\n",
       "    <tr style=\"text-align: right;\">\n",
       "      <th></th>\n",
       "      <th>Unnamed: 0</th>\n",
       "      <th>CODIGO</th>\n",
       "      <th>DISTRITO</th>\n",
       "      <th>DEPARTAMENTO</th>\n",
       "      <th>MUNICIPIO</th>\n",
       "      <th>ESTABLECIMIENTO</th>\n",
       "      <th>DIRECCION</th>\n",
       "      <th>TELEFONO</th>\n",
       "      <th>SUPERVISOR</th>\n",
       "      <th>DIRECTOR</th>\n",
       "      <th>NIVEL</th>\n",
       "      <th>SECTOR</th>\n",
       "      <th>AREA</th>\n",
       "      <th>STATUS</th>\n",
       "      <th>MODALIDAD</th>\n",
       "      <th>JORNADA</th>\n",
       "      <th>PLAN</th>\n",
       "      <th>DEPARTAMENTAL</th>\n",
       "    </tr>\n",
       "  </thead>\n",
       "  <tbody>\n",
       "    <tr>\n",
       "      <th>0</th>\n",
       "      <td>0</td>\n",
       "      <td>12-01-0001-42</td>\n",
       "      <td>12-002</td>\n",
       "      <td>SAN MARCOS</td>\n",
       "      <td>SAN MARCOS</td>\n",
       "      <td>EODP NO. 1 \"FRANCISCA SANDOVAL\"</td>\n",
       "      <td>7A. AVENIDA 5-74 ZONA 2</td>\n",
       "      <td>55315928</td>\n",
       "      <td>AMILSA YAMILETH ESTRADA RODRÍGUEZ</td>\n",
       "      <td>ROXANA ELIZABETH LÓPEZ FUENTES</td>\n",
       "      <td>PARVULOS</td>\n",
       "      <td>OFICIAL</td>\n",
       "      <td>URBANA</td>\n",
       "      <td>ABIERTA</td>\n",
       "      <td>MONOLINGUE</td>\n",
       "      <td>MATUTINA</td>\n",
       "      <td>DIARIO(REGULAR)</td>\n",
       "      <td>SAN MARCOS</td>\n",
       "    </tr>\n",
       "    <tr>\n",
       "      <th>1</th>\n",
       "      <td>1</td>\n",
       "      <td>12-01-0002-42</td>\n",
       "      <td>12-002</td>\n",
       "      <td>SAN MARCOS</td>\n",
       "      <td>SAN MARCOS</td>\n",
       "      <td>EODP NO. 2 'GEORGINA RODAS DE ESCOBAR'</td>\n",
       "      <td>AVE. EL REFORMADOR COLONIA JUSTO RUFINO BARRIO...</td>\n",
       "      <td>42914527</td>\n",
       "      <td>AMILSA YAMILETH ESTRADA RODRÍGUEZ</td>\n",
       "      <td>EMILIA MAXIMINA CARDONA BAUTISTA</td>\n",
       "      <td>PARVULOS</td>\n",
       "      <td>OFICIAL</td>\n",
       "      <td>URBANA</td>\n",
       "      <td>ABIERTA</td>\n",
       "      <td>MONOLINGUE</td>\n",
       "      <td>MATUTINA</td>\n",
       "      <td>DIARIO(REGULAR)</td>\n",
       "      <td>SAN MARCOS</td>\n",
       "    </tr>\n",
       "    <tr>\n",
       "      <th>2</th>\n",
       "      <td>2</td>\n",
       "      <td>12-01-0003-42</td>\n",
       "      <td>12-100</td>\n",
       "      <td>SAN MARCOS</td>\n",
       "      <td>SAN MARCOS</td>\n",
       "      <td>COLEGIO PARTICULAR MIXTO SAGRADO CORAZON</td>\n",
       "      <td>10A. AVENIDA 9-71 ZONA 3</td>\n",
       "      <td>77601164</td>\n",
       "      <td>JORGE EBERTO SOLORZANO SANCHEZ</td>\n",
       "      <td>MAGNOLIA ROSALETT CIFUENTES BARRIOS</td>\n",
       "      <td>PARVULOS</td>\n",
       "      <td>PRIVADO</td>\n",
       "      <td>URBANA</td>\n",
       "      <td>ABIERTA</td>\n",
       "      <td>MONOLINGUE</td>\n",
       "      <td>MATUTINA</td>\n",
       "      <td>DIARIO(REGULAR)</td>\n",
       "      <td>SAN MARCOS</td>\n",
       "    </tr>\n",
       "    <tr>\n",
       "      <th>3</th>\n",
       "      <td>3</td>\n",
       "      <td>12-01-0004-42</td>\n",
       "      <td>12-002</td>\n",
       "      <td>SAN MARCOS</td>\n",
       "      <td>SAN MARCOS</td>\n",
       "      <td>COLEGIO EVANGELICO MIXTO NAZARENO</td>\n",
       "      <td>15 AVENIDA 5-36 ZONA 5</td>\n",
       "      <td>44656690</td>\n",
       "      <td>AMILSA YAMILETH ESTRADA RODRÍGUEZ</td>\n",
       "      <td>ENNA DEL CARMEN GIRÓN RODRÍGUEZ</td>\n",
       "      <td>PARVULOS</td>\n",
       "      <td>PRIVADO</td>\n",
       "      <td>URBANA</td>\n",
       "      <td>ABIERTA</td>\n",
       "      <td>MONOLINGUE</td>\n",
       "      <td>MATUTINA</td>\n",
       "      <td>DIARIO(REGULAR)</td>\n",
       "      <td>SAN MARCOS</td>\n",
       "    </tr>\n",
       "    <tr>\n",
       "      <th>4</th>\n",
       "      <td>4</td>\n",
       "      <td>12-01-0006-42</td>\n",
       "      <td>12-002</td>\n",
       "      <td>SAN MARCOS</td>\n",
       "      <td>SAN MARCOS</td>\n",
       "      <td>COLEGIO \"SAN MARCOS\"</td>\n",
       "      <td>6A. AVENIDA, 4-92 ZONA 2</td>\n",
       "      <td>77604147</td>\n",
       "      <td>AMILSA YAMILETH ESTRADA RODRÍGUEZ</td>\n",
       "      <td>SOR CAROLINA PATRICIA MARTÍNEZ TRUJILLO</td>\n",
       "      <td>PARVULOS</td>\n",
       "      <td>PRIVADO</td>\n",
       "      <td>URBANA</td>\n",
       "      <td>ABIERTA</td>\n",
       "      <td>MONOLINGUE</td>\n",
       "      <td>MATUTINA</td>\n",
       "      <td>DIARIO(REGULAR)</td>\n",
       "      <td>SAN MARCOS</td>\n",
       "    </tr>\n",
       "  </tbody>\n",
       "</table>\n",
       "</div>"
      ],
      "text/plain": [
       "   Unnamed: 0         CODIGO DISTRITO DEPARTAMENTO   MUNICIPIO  \\\n",
       "0           0  12-01-0001-42   12-002   SAN MARCOS  SAN MARCOS   \n",
       "1           1  12-01-0002-42   12-002   SAN MARCOS  SAN MARCOS   \n",
       "2           2  12-01-0003-42   12-100   SAN MARCOS  SAN MARCOS   \n",
       "3           3  12-01-0004-42   12-002   SAN MARCOS  SAN MARCOS   \n",
       "4           4  12-01-0006-42   12-002   SAN MARCOS  SAN MARCOS   \n",
       "\n",
       "                            ESTABLECIMIENTO  \\\n",
       "0           EODP NO. 1 \"FRANCISCA SANDOVAL\"   \n",
       "1    EODP NO. 2 'GEORGINA RODAS DE ESCOBAR'   \n",
       "2  COLEGIO PARTICULAR MIXTO SAGRADO CORAZON   \n",
       "3         COLEGIO EVANGELICO MIXTO NAZARENO   \n",
       "4                      COLEGIO \"SAN MARCOS\"   \n",
       "\n",
       "                                           DIRECCION  TELEFONO  \\\n",
       "0                            7A. AVENIDA 5-74 ZONA 2  55315928   \n",
       "1  AVE. EL REFORMADOR COLONIA JUSTO RUFINO BARRIO...  42914527   \n",
       "2                           10A. AVENIDA 9-71 ZONA 3  77601164   \n",
       "3                             15 AVENIDA 5-36 ZONA 5  44656690   \n",
       "4                           6A. AVENIDA, 4-92 ZONA 2  77604147   \n",
       "\n",
       "                          SUPERVISOR                                 DIRECTOR  \\\n",
       "0  AMILSA YAMILETH ESTRADA RODRÍGUEZ           ROXANA ELIZABETH LÓPEZ FUENTES   \n",
       "1  AMILSA YAMILETH ESTRADA RODRÍGUEZ         EMILIA MAXIMINA CARDONA BAUTISTA   \n",
       "2     JORGE EBERTO SOLORZANO SANCHEZ      MAGNOLIA ROSALETT CIFUENTES BARRIOS   \n",
       "3  AMILSA YAMILETH ESTRADA RODRÍGUEZ          ENNA DEL CARMEN GIRÓN RODRÍGUEZ   \n",
       "4  AMILSA YAMILETH ESTRADA RODRÍGUEZ  SOR CAROLINA PATRICIA MARTÍNEZ TRUJILLO   \n",
       "\n",
       "      NIVEL   SECTOR    AREA   STATUS   MODALIDAD   JORNADA             PLAN  \\\n",
       "0  PARVULOS  OFICIAL  URBANA  ABIERTA  MONOLINGUE  MATUTINA  DIARIO(REGULAR)   \n",
       "1  PARVULOS  OFICIAL  URBANA  ABIERTA  MONOLINGUE  MATUTINA  DIARIO(REGULAR)   \n",
       "2  PARVULOS  PRIVADO  URBANA  ABIERTA  MONOLINGUE  MATUTINA  DIARIO(REGULAR)   \n",
       "3  PARVULOS  PRIVADO  URBANA  ABIERTA  MONOLINGUE  MATUTINA  DIARIO(REGULAR)   \n",
       "4  PARVULOS  PRIVADO  URBANA  ABIERTA  MONOLINGUE  MATUTINA  DIARIO(REGULAR)   \n",
       "\n",
       "  DEPARTAMENTAL  \n",
       "0    SAN MARCOS  \n",
       "1    SAN MARCOS  \n",
       "2    SAN MARCOS  \n",
       "3    SAN MARCOS  \n",
       "4    SAN MARCOS  "
      ]
     },
     "execution_count": 56,
     "metadata": {},
     "output_type": "execute_result"
    }
   ],
   "source": [
    "df.head()"
   ]
  },
  {
   "cell_type": "code",
   "execution_count": 57,
   "id": "b5f22953",
   "metadata": {},
   "outputs": [
    {
     "data": {
      "application/vnd.microsoft.datawrangler.viewer.v0+json": {
       "columns": [
        {
         "name": "index",
         "rawType": "object",
         "type": "string"
        },
        {
         "name": "0",
         "rawType": "object",
         "type": "unknown"
        }
       ],
       "ref": "b11c60f4-0146-4d5c-9cce-1cfe967b221d",
       "rows": [
        [
         "Unnamed: 0",
         "int64"
        ],
        [
         "CODIGO",
         "object"
        ],
        [
         "DISTRITO",
         "object"
        ],
        [
         "DEPARTAMENTO",
         "object"
        ],
        [
         "MUNICIPIO",
         "object"
        ],
        [
         "ESTABLECIMIENTO",
         "object"
        ],
        [
         "DIRECCION",
         "object"
        ],
        [
         "TELEFONO",
         "object"
        ],
        [
         "SUPERVISOR",
         "object"
        ],
        [
         "DIRECTOR",
         "object"
        ],
        [
         "NIVEL",
         "object"
        ],
        [
         "SECTOR",
         "object"
        ],
        [
         "AREA",
         "object"
        ],
        [
         "STATUS",
         "object"
        ],
        [
         "MODALIDAD",
         "object"
        ],
        [
         "JORNADA",
         "object"
        ],
        [
         "PLAN",
         "object"
        ],
        [
         "DEPARTAMENTAL",
         "object"
        ]
       ],
       "shape": {
        "columns": 1,
        "rows": 18
       }
      },
      "text/plain": [
       "Unnamed: 0          int64\n",
       "CODIGO             object\n",
       "DISTRITO           object\n",
       "DEPARTAMENTO       object\n",
       "MUNICIPIO          object\n",
       "ESTABLECIMIENTO    object\n",
       "DIRECCION          object\n",
       "TELEFONO           object\n",
       "SUPERVISOR         object\n",
       "DIRECTOR           object\n",
       "NIVEL              object\n",
       "SECTOR             object\n",
       "AREA               object\n",
       "STATUS             object\n",
       "MODALIDAD          object\n",
       "JORNADA            object\n",
       "PLAN               object\n",
       "DEPARTAMENTAL      object\n",
       "dtype: object"
      ]
     },
     "execution_count": 57,
     "metadata": {},
     "output_type": "execute_result"
    }
   ],
   "source": [
    "df.dtypes"
   ]
  },
  {
   "cell_type": "markdown",
   "id": "8e328a23",
   "metadata": {},
   "source": [
    "El dataset está compuesto por 18 columnas, de las cuales 17 son de tipo texto y 1 es de tipo numérico entero"
   ]
  },
  {
   "cell_type": "markdown",
   "id": "df2366e7",
   "metadata": {},
   "source": [
    "Datos unicos por columna:"
   ]
  },
  {
   "cell_type": "code",
   "execution_count": 58,
   "id": "27c9e384",
   "metadata": {},
   "outputs": [
    {
     "data": {
      "application/vnd.microsoft.datawrangler.viewer.v0+json": {
       "columns": [
        {
         "name": "index",
         "rawType": "object",
         "type": "string"
        },
        {
         "name": "0",
         "rawType": "int64",
         "type": "integer"
        }
       ],
       "ref": "2ee5989f-3c88-4420-a871-9057377d51ee",
       "rows": [
        [
         "Unnamed: 0",
         "56457"
        ],
        [
         "CODIGO",
         "56457"
        ],
        [
         "DISTRITO",
         "841"
        ],
        [
         "DEPARTAMENTO",
         "23"
        ],
        [
         "MUNICIPIO",
         "356"
        ],
        [
         "ESTABLECIMIENTO",
         "14149"
        ],
        [
         "DIRECCION",
         "30377"
        ],
        [
         "TELEFONO",
         "29393"
        ],
        [
         "SUPERVISOR",
         "802"
        ],
        [
         "DIRECTOR",
         "32343"
        ],
        [
         "NIVEL",
         "7"
        ],
        [
         "SECTOR",
         "4"
        ],
        [
         "AREA",
         "3"
        ],
        [
         "STATUS",
         "1"
        ],
        [
         "MODALIDAD",
         "2"
        ],
        [
         "JORNADA",
         "6"
        ],
        [
         "PLAN",
         "12"
        ],
        [
         "DEPARTAMENTAL",
         "26"
        ]
       ],
       "shape": {
        "columns": 1,
        "rows": 18
       }
      },
      "text/plain": [
       "Unnamed: 0         56457\n",
       "CODIGO             56457\n",
       "DISTRITO             841\n",
       "DEPARTAMENTO          23\n",
       "MUNICIPIO            356\n",
       "ESTABLECIMIENTO    14149\n",
       "DIRECCION          30377\n",
       "TELEFONO           29393\n",
       "SUPERVISOR           802\n",
       "DIRECTOR           32343\n",
       "NIVEL                  7\n",
       "SECTOR                 4\n",
       "AREA                   3\n",
       "STATUS                 1\n",
       "MODALIDAD              2\n",
       "JORNADA                6\n",
       "PLAN                  12\n",
       "DEPARTAMENTAL         26\n",
       "dtype: int64"
      ]
     },
     "execution_count": 58,
     "metadata": {},
     "output_type": "execute_result"
    }
   ],
   "source": [
    "df.nunique()"
   ]
  },
  {
   "cell_type": "markdown",
   "id": "01494b5f",
   "metadata": {},
   "source": [
    "Resumen estructural del conjunto de datos:"
   ]
  },
  {
   "cell_type": "code",
   "execution_count": 59,
   "id": "f84b3e37",
   "metadata": {},
   "outputs": [
    {
     "name": "stdout",
     "output_type": "stream",
     "text": [
      "<class 'pandas.core.frame.DataFrame'>\n",
      "RangeIndex: 56457 entries, 0 to 56456\n",
      "Data columns (total 18 columns):\n",
      " #   Column           Non-Null Count  Dtype \n",
      "---  ------           --------------  ----- \n",
      " 0   Unnamed: 0       56457 non-null  int64 \n",
      " 1   CODIGO           56457 non-null  object\n",
      " 2   DISTRITO         56457 non-null  object\n",
      " 3   DEPARTAMENTO     56457 non-null  object\n",
      " 4   MUNICIPIO        56457 non-null  object\n",
      " 5   ESTABLECIMIENTO  56457 non-null  object\n",
      " 6   DIRECCION        56457 non-null  object\n",
      " 7   TELEFONO         56457 non-null  object\n",
      " 8   SUPERVISOR       56457 non-null  object\n",
      " 9   DIRECTOR         56457 non-null  object\n",
      " 10  NIVEL            56457 non-null  object\n",
      " 11  SECTOR           56457 non-null  object\n",
      " 12  AREA             56457 non-null  object\n",
      " 13  STATUS           56457 non-null  object\n",
      " 14  MODALIDAD        56457 non-null  object\n",
      " 15  JORNADA          56457 non-null  object\n",
      " 16  PLAN             56457 non-null  object\n",
      " 17  DEPARTAMENTAL    56457 non-null  object\n",
      "dtypes: int64(1), object(17)\n",
      "memory usage: 7.8+ MB\n"
     ]
    }
   ],
   "source": [
    "df.info()"
   ]
  },
  {
   "cell_type": "markdown",
   "id": "e02826fa",
   "metadata": {},
   "source": [
    "### **Lista de Variables que más operaciones de limpieza necesitaran**\n",
    "1. `ESTABLECIMIENTO`\n",
    "2. `TELEFONO`\n",
    "3. `DIRECCION`\n"
   ]
  },
  {
   "cell_type": "markdown",
   "id": "aa9bc8a2",
   "metadata": {},
   "source": [
    "## **Estrategia de Limpieza del Conjunto de Datos**\n",
    "\n",
    "1. **Para la variable `Unnamed: 0` se planea:**\n",
    "   - Eliminar completamente esta columna, ya que representa un índice redundante generado al momento de exportar el archivo original. Su presencia puede generar confusión y no aporta valor analítico.\n",
    "\n",
    "2. **Para la variable `CODIGO` se planea:**\n",
    "   - Convertir a tipo `string`.\n",
    "   - Verificar que no haya datos nulos.\n",
    "   - Verificar los valores únicos presentes para detectar anomalías.\n",
    "\n",
    "3. **Para la variable `DISTRITO` se planea:**\n",
    "   - Convertir a tipo `string`.\n",
    "   - Verificar que no haya datos nulos.\n",
    "   - Convertir a mayúsculas.\n",
    "   - Eliminar espacios extra.\n",
    "   - Verificar los valores únicos presentes para detectar anomalías.\n",
    "\n",
    "4. **Para la variable `DEPARTAMENTO` se planea:**\n",
    "   - Convertir a tipo `string`.\n",
    "   - Verificar que no haya datos nulos.\n",
    "   - Convertir a mayúsculas.\n",
    "   - Eliminar espacios extra.\n",
    "   - Revisar errores ortográficos o cambios de letras.\n",
    "   - Verificar los valores únicos presentes para detectar anomalía.\n",
    "\n",
    "5. **Para la variable `MUNICIPIO` se planea:**\n",
    "   - Convertir a tipo `string`.\n",
    "   - Verificar que no haya datos nulos.\n",
    "   - Convertir a mayúsculas.\n",
    "   - Eliminar espacios extra.\n",
    "   - Revisar errores ortográficos.\n",
    "   - Verificar los valores únicos presentes para detectar anomalías.\n",
    "\n",
    "6. **Para la variable `ESTABLECIMIENTO` se planea:**\n",
    "   - Convertir a tipo `string`.\n",
    "   - Verificar que no haya datos nulos.\n",
    "   - Convertir a mayúsculas.\n",
    "   - Eliminar espacios extra.\n",
    "   - Revisar errores ortográficos.\n",
    "   - Verificar los valores únicos presentes para detectar anomalías.\n",
    "\n",
    "7. **Para la variable `DIRECCION` se planea:**\n",
    "   - Convertir a tipo `string`.\n",
    "   - Verificar que no haya datos nulos.\n",
    "   - Convertir a mayúsculas.\n",
    "   - Eliminar espacios innecesarios.\n",
    "   - Verificar valores únicos en busca de direcciones incompletas o erróneas.\n",
    "\n",
    "8. **Para la variable `SUPERVISOR` se planea:**\n",
    "   - Convertir a tipo `string`.\n",
    "   - Verificar que no haya datos nulos.\n",
    "   - Convertir a mayúsculas.\n",
    "   - Verificar valores únicos para detectar para detectar anomalías.\n",
    "\n",
    "9. **Para la variable `DIRECTOR` se planea:**\n",
    "   - Convertir a tipo `string`.\n",
    "   - Verificar que no haya datos nulos.\n",
    "   - Convertir a mayúsculas.\n",
    "   - Verificar valores únicos para detectar para detectar anomalías.\n",
    "\n",
    "10. **Para la variable `NIVEL` se planea:**\n",
    "   - Convertir a tipo `string`.\n",
    "   - Verificar que no haya datos nulos.\n",
    "   - Filtrar únicamente los niveles: preprimaria, primaria, básico y diversificado.\n",
    "   - Convertir a mayúsculas.\n",
    "   - Verificar valores únicos para detectar para detectar anomalías.\n",
    "\n",
    "11. **Para la variable `SECTOR` se planea:**\n",
    "   - Convertir a tipo `string`.\n",
    "   - Verificar que no haya datos nulos.\n",
    "   - Convertir a mayúsculas.\n",
    "   - Verificar valores únicos para detectar para detectar anomalías.\n",
    "\n",
    "12. **Para la variable `AREA` se planea:**\n",
    "   - Convertir a tipo `string`.\n",
    "   - Verificar que no haya datos nulos.\n",
    "   - Convertir a mayúsculas.\n",
    "   - Verificar valores únicos para detectar para detectar anomalías.\n",
    "\n",
    "13. **Para la variable `STATUS` se planea:**\n",
    "   - Convertir a tipo `string`.\n",
    "   - Verificar que no haya datos nulos.\n",
    "   - Convertir a mayúsculas.\n",
    "   - Verificar valores únicos para detectar para detectar anomalías.\n",
    "\n",
    "14. **Para la variable `MODALIDAD` se planea:**\n",
    "   - Convertir a tipo `string`.\n",
    "   - Verificar que no haya datos nulos.\n",
    "   - Convertir a mayúsculas.\n",
    "   - Verificar valores únicos para detectar para detectar anomalías.\n",
    "\n",
    "15. **Para la variable `JORNADA` se planea:**\n",
    "   - Convertir a tipo `string`.\n",
    "   - Convertir a mayúsculas.\n",
    "   - Eliminar espacios adicionales.\n",
    "   - Verificar los valores únicos para detectar variaciones innecesarias (\"MATUTINA\", \"MATUTINO\", etc.).\n",
    "\n",
    "16. **Para la variable `PLAN` se planea:**\n",
    "   - Convertir a tipo `string`.\n",
    "   - Verificar que no haya datos nulos.\n",
    "   - Convertir a mayúsculas.\n",
    "   - Verificar valores únicos para detectar para detectar anomalías.\n",
    "\n",
    "17. **Para la variable `DEPARTAMENTAL` se planea:**\n",
    "   - Convertir a tipo `string`.\n",
    "   - Verificar que no haya datos nulos.\n",
    "   - Convertir a mayúsculas.\n",
    "   - Verificar valores únicos para detectar para detectar anomalías.\n",
    "\n",
    "18. **Para la variable `TELEFONO` se planea:**\n",
    "   - Convertir a tipo `Int64` \n",
    "   - Eliminar caracteres no numéricos si existieran.\n",
    "   - Verificar que no haya datos nulos\n",
    "\n",
    "\n",
    "## **Limpieza de datos**\n",
    "\n",
    "### **Unnamed: 0:**\n"
   ]
  },
  {
   "cell_type": "code",
   "execution_count": 60,
   "id": "da16916d",
   "metadata": {},
   "outputs": [],
   "source": [
    "def resumen_columna(df: pd.DataFrame, col: str, top_n: int = 20) -> None:\n",
    "    print(f\"\\n=== {col} ===\")\n",
    "    if col not in df.columns:\n",
    "        print(\"-> La columna no existe en el DataFrame.\")\n",
    "        return\n",
    "    print(\"dtype:\", df[col].dtype)\n",
    "    print(\"Nulos:\", df[col].isna().sum())\n",
    "    try:\n",
    "        print(\"Únicos (n):\", df[col].nunique(dropna=True))\n",
    "        print(\"Top valores:\")\n",
    "        print(df[col].value_counts(dropna=False).head(top_n))\n",
    "    except Exception as e:\n",
    "        print(\"No se pudo calcular resumen de únicos:\", e)"
   ]
  },
  {
   "cell_type": "code",
   "execution_count": 61,
   "id": "1bb65b67",
   "metadata": {},
   "outputs": [],
   "source": [
    "def normalizar_texto(df: pd.DataFrame, col: str) -> None:\n",
    "    if col not in df.columns:\n",
    "        print(f\"[AVISO] No se encontró la columna {col}. Se omite.\")\n",
    "        return\n",
    "    df[col] = df[col].astype(\"string\")\n",
    "    df[col] = (\n",
    "        df[col]\n",
    "        .fillna(\"\")\n",
    "        .str.replace(r\"\\s+\", \" \", regex=True)\n",
    "        .str.strip()\n",
    "        .str.upper()\n",
    "        .astype(\"string\")\n",
    "    )\n",
    "    df.loc[df[col].str.len() == 0, col] = pd.NA"
   ]
  },
  {
   "cell_type": "code",
   "execution_count": 62,
   "id": "1baf1b9c",
   "metadata": {},
   "outputs": [
    {
     "name": "stdout",
     "output_type": "stream",
     "text": [
      "-> Columna 'Unnamed: 0' eliminada.\n"
     ]
    }
   ],
   "source": [
    "df.drop(columns=[\"Unnamed: 0\"], inplace=True)\n",
    "print(\"-> Columna 'Unnamed: 0' eliminada.\")"
   ]
  },
  {
   "cell_type": "code",
   "execution_count": 63,
   "id": "dae75173",
   "metadata": {},
   "outputs": [],
   "source": [
    "def valores_raros_por_frecuencia(df: pd.DataFrame, col: str, max_freq: int = 3) -> None:\n",
    "    if col not in df.columns:\n",
    "        return\n",
    "    vc = df[col].value_counts(dropna=False)\n",
    "    raros = vc[vc <= max_freq]\n",
    "    print(f\"\\nValores raros en {col} (freq <= {max_freq}):\")\n",
    "    if raros.empty:\n",
    "        print(\"(ninguno)\")\n",
    "    else:\n",
    "        print(raros)"
   ]
  },
  {
   "cell_type": "markdown",
   "id": "0c83d943",
   "metadata": {},
   "source": [
    "### **CODIGO**"
   ]
  },
  {
   "cell_type": "code",
   "execution_count": 64,
   "id": "605f599c",
   "metadata": {},
   "outputs": [
    {
     "name": "stdout",
     "output_type": "stream",
     "text": [
      "Chequeos `CODIGO` después de convertir a string:\n"
     ]
    }
   ],
   "source": [
    "df[\"CODIGO\"] = df[\"CODIGO\"].astype(\"string\")\n",
    "print(\"Chequeos `CODIGO` después de convertir a string:\")"
   ]
  },
  {
   "cell_type": "code",
   "execution_count": 65,
   "id": "e436533a",
   "metadata": {},
   "outputs": [
    {
     "name": "stdout",
     "output_type": "stream",
     "text": [
      "\n",
      "=== CODIGO ===\n",
      "dtype: string\n",
      "Nulos: 0\n",
      "Únicos (n): 56457\n",
      "Top valores:\n",
      "CODIGO\n",
      "12-01-0001-42    1\n",
      "12-01-0012-42    1\n",
      "12-01-0029-43    1\n",
      "12-01-0028-43    1\n",
      "12-01-0027-43    1\n",
      "12-01-0003-42    1\n",
      "12-01-0004-42    1\n",
      "12-01-0006-42    1\n",
      "12-01-0007-42    1\n",
      "12-01-0008-42    1\n",
      "12-01-0009-42    1\n",
      "12-01-0010-43    1\n",
      "12-01-0011-43    1\n",
      "12-01-0012-43    1\n",
      "12-01-0055-42    1\n",
      "12-01-0013-43    1\n",
      "12-01-0014-43    1\n",
      "12-01-0015-43    1\n",
      "12-01-0016-43    1\n",
      "12-01-0017-43    1\n",
      "Name: count, dtype: Int64\n"
     ]
    }
   ],
   "source": [
    "resumen_columna(df, \"CODIGO\")"
   ]
  },
  {
   "cell_type": "markdown",
   "id": "2fe292e9",
   "metadata": {},
   "source": [
    "### **DISTRITO**"
   ]
  },
  {
   "cell_type": "code",
   "execution_count": 66,
   "id": "da80372a",
   "metadata": {},
   "outputs": [
    {
     "name": "stdout",
     "output_type": "stream",
     "text": [
      "\n",
      "=== DISTRITO ===\n",
      "dtype: string\n",
      "Nulos: 0\n",
      "Únicos (n): 841\n",
      "Top valores:\n",
      "DISTRITO\n",
      "01-403    350\n",
      "11-017    339\n",
      "01-110    233\n",
      "01-641    220\n",
      "01-639    210\n",
      "01-411    204\n",
      "05-033    200\n",
      "05-026    187\n",
      "16-023    184\n",
      "20-017    181\n",
      "03-002    174\n",
      "16-014    174\n",
      "01-620    172\n",
      "16-031    168\n",
      "05-017    167\n",
      "03-005    164\n",
      "01-220    162\n",
      "01-602    160\n",
      "01-603    157\n",
      "10-019    157\n",
      "Name: count, dtype: Int64\n"
     ]
    }
   ],
   "source": [
    "normalizar_texto(df, \"DISTRITO\")\n",
    "resumen_columna(df, \"DISTRITO\")"
   ]
  },
  {
   "cell_type": "markdown",
   "id": "986a7dcc",
   "metadata": {},
   "source": [
    "### **DEPARTAMENTO**"
   ]
  },
  {
   "cell_type": "code",
   "execution_count": 67,
   "id": "9e067315",
   "metadata": {},
   "outputs": [
    {
     "name": "stdout",
     "output_type": "stream",
     "text": [
      "\n",
      "=== DEPARTAMENTO ===\n",
      "dtype: string\n",
      "Nulos: 0\n",
      "Únicos (n): 23\n",
      "Top valores:\n",
      "DEPARTAMENTO\n",
      "GUATEMALA         5768\n",
      "ALTA VERAPAZ      4961\n",
      "SAN MARCOS        4347\n",
      "HUEHUETENANGO     4326\n",
      "QUICHE            3596\n",
      "CIUDAD CAPITAL    3418\n",
      "QUETZALTENANGO    2713\n",
      "PETEN             2554\n",
      "CHIQUIMULA        2411\n",
      "IZABAL            2252\n",
      "JUTIAPA           2163\n",
      "CHIMALTENANGO     2162\n",
      "ESCUINTLA         2144\n",
      "SUCHITEPEQUEZ     1752\n",
      "SOLOLA            1731\n",
      "TOTONICAPAN       1612\n",
      "RETALHULEU        1506\n",
      "SANTA ROSA        1464\n",
      "BAJA VERAPAZ      1453\n",
      "JALAPA            1279\n",
      "Name: count, dtype: Int64\n"
     ]
    }
   ],
   "source": [
    "normalizar_texto(df, \"DEPARTAMENTO\")\n",
    "resumen_columna(df, \"DEPARTAMENTO\")"
   ]
  },
  {
   "cell_type": "code",
   "execution_count": 68,
   "id": "155c351e",
   "metadata": {},
   "outputs": [
    {
     "name": "stdout",
     "output_type": "stream",
     "text": [
      "\n",
      "Valores raros en DEPARTAMENTO (freq <= 3):\n",
      "(ninguno)\n"
     ]
    }
   ],
   "source": [
    "valores_raros_por_frecuencia(df, \"DEPARTAMENTO\")"
   ]
  },
  {
   "cell_type": "markdown",
   "id": "739f56aa",
   "metadata": {},
   "source": [
    "### **MUNICIPIO**"
   ]
  },
  {
   "cell_type": "code",
   "execution_count": 69,
   "id": "249e2346",
   "metadata": {},
   "outputs": [],
   "source": [
    "normalizar_texto(df, \"MUNICIPIO\"); "
   ]
  },
  {
   "cell_type": "code",
   "execution_count": 70,
   "id": "669e86cd",
   "metadata": {},
   "outputs": [
    {
     "name": "stdout",
     "output_type": "stream",
     "text": [
      "\n",
      "=== MUNICIPIO ===\n",
      "dtype: string\n",
      "Nulos: 0\n",
      "Únicos (n): 356\n",
      "Top valores:\n",
      "MUNICIPIO\n",
      "MIXCO                    1413\n",
      "VILLA NUEVA              1166\n",
      "COBAN                    1020\n",
      "SAN PEDRO CARCHA          850\n",
      "ZONA 1                    746\n",
      "QUETZALTENANGO            707\n",
      "RETALHULEU                597\n",
      "MORALES                   596\n",
      "JUTIAPA                   534\n",
      "JALAPA                    524\n",
      "SAN JUAN SACATEPEQUEZ     515\n",
      "PUERTO BARRIOS            499\n",
      "LA LIBERTAD               483\n",
      "CHIMALTENANGO             483\n",
      "SAN MIGUEL PETAPA         477\n",
      "ESCUINTLA                 461\n",
      "LIVINGSTON                455\n",
      "CHIQUIMULA                455\n",
      "ZONA 18                   454\n",
      "HUEHUETENANGO             432\n",
      "Name: count, dtype: Int64\n"
     ]
    }
   ],
   "source": [
    "resumen_columna(df, \"MUNICIPIO\")"
   ]
  },
  {
   "cell_type": "code",
   "execution_count": 71,
   "id": "2b096d58",
   "metadata": {},
   "outputs": [
    {
     "name": "stdout",
     "output_type": "stream",
     "text": [
      "\n",
      "Valores raros en MUNICIPIO (freq <= 3):\n",
      "(ninguno)\n"
     ]
    }
   ],
   "source": [
    "valores_raros_por_frecuencia(df, \"MUNICIPIO\")\n"
   ]
  },
  {
   "cell_type": "markdown",
   "id": "d64efb1b",
   "metadata": {},
   "source": [
    "### **ESTABLECIMIENTO**"
   ]
  },
  {
   "cell_type": "code",
   "execution_count": 72,
   "id": "ae15852d",
   "metadata": {},
   "outputs": [
    {
     "name": "stdout",
     "output_type": "stream",
     "text": [
      "\n",
      "=== ESTABLECIMIENTO ===\n",
      "dtype: string\n",
      "Nulos: 1\n",
      "Únicos (n): 13241\n",
      "Top valores:\n",
      "ESTABLECIMIENTO\n",
      "EORM                                                            13541\n",
      "EODP ANEXA A EORM                                                5339\n",
      "COPB ANEXO A EORM                                                2468\n",
      "CENTRO COMUNITARIO DE DESARROLLO INFANTIL INTEGRAL -CECODII-     1979\n",
      "EODP                                                             1616\n",
      "INEB DE TELESECUNDARIA                                           1456\n",
      "COPB ANEXA A EORM                                                 676\n",
      "INEB                                                              601\n",
      "EODP ANEXA EORM                                                   415\n",
      "EOUM                                                              354\n",
      "INSTITUTO NACIONAL DE EDUCACION DIVERSIFICADA                     286\n",
      "COPB                                                              281\n",
      "CEIN -PAIN-                                                       236\n",
      "IEBC DE ENSEÑANZA                                                 227\n",
      "EODP ANEXA A EOUM                                                 171\n",
      "NUCLEO FAMILIAR EDUCATIVO PARA EL DESARROLLO NUFED                170\n",
      "ESCUELA OFICIAL RURAL MIXTA                                       148\n",
      "COPB ANEXO EORM                                                   107\n",
      "INSTITUTO NACIONAL DE EDUCACIÓN DIVERSIFICADA                     102\n",
      "INSTITUTO NACIONAL DE EDUCACION BASICA DE TELESECUNDARIA           89\n",
      "Name: count, dtype: Int64\n"
     ]
    }
   ],
   "source": [
    "normalizar_texto(df, \"ESTABLECIMIENTO\")\n",
    "resumen_columna(df, \"ESTABLECIMIENTO\")"
   ]
  },
  {
   "cell_type": "markdown",
   "id": "6a31f011",
   "metadata": {},
   "source": [
    "### **DIRECCION**"
   ]
  },
  {
   "cell_type": "code",
   "execution_count": 73,
   "id": "9211a748",
   "metadata": {},
   "outputs": [
    {
     "name": "stdout",
     "output_type": "stream",
     "text": [
      "\n",
      "=== DIRECCION ===\n",
      "dtype: string\n",
      "Nulos: 34\n",
      "Únicos (n): 29918\n",
      "Top valores:\n",
      "DIRECCION\n",
      "CABECERA MUNICIPAL      547\n",
      "BARRIO EL CENTRO        210\n",
      "ALDEA BUENA VISTA        93\n",
      "BARRIO EL CALVARIO       75\n",
      "BARRIO EL PORVENIR       56\n",
      "ALDEA EL ROSARIO         51\n",
      "ALDEA EL NARANJO         47\n",
      "ALDEA LLANO GRANDE       44\n",
      "BARRIO SAN SEBASTIAN     39\n",
      "BARRIO LA REFORMA        38\n",
      "ALDEA TIERRA BLANCA      37\n",
      "BARRIO EL MITCHAL        36\n",
      "ALDEA LOS ANGELES        36\n",
      "ALDEA AGUA CALIENTE      36\n",
      "ALDEA EL CARRIZAL        36\n",
      "BARRIO LAS FLORES        36\n",
      "ALDEA LA LAGUNA          35\n",
      "ALDEA PLAYITAS           34\n",
      "<NA>                     34\n",
      "ALDEA OJO DE AGUA        34\n",
      "Name: count, dtype: Int64\n"
     ]
    }
   ],
   "source": [
    "normalizar_texto(df, \"DIRECCION\")\n",
    "resumen_columna(df, \"DIRECCION\")"
   ]
  },
  {
   "cell_type": "markdown",
   "id": "13062542",
   "metadata": {},
   "source": [
    "### **SUPERVISOR**"
   ]
  },
  {
   "cell_type": "code",
   "execution_count": 74,
   "id": "8f4cf7cf",
   "metadata": {},
   "outputs": [
    {
     "name": "stdout",
     "output_type": "stream",
     "text": [
      "\n",
      "=== SUPERVISOR ===\n",
      "dtype: string\n",
      "Nulos: 0\n",
      "Únicos (n): 801\n",
      "Top valores:\n",
      "SUPERVISOR\n",
      "MIGUEL ANGEL ARMAS ROCHA                     486\n",
      "CARLOS HUMBERTO GONZÁLEZ DE LEÓN             350\n",
      "IDALIA DEL ROSARIO LOPEZ SANDOVAL DE PAIZ    264\n",
      "ZUHILEM YESENIA ESTRADA ORTIZ                233\n",
      "RONALD MAURICIO MORALES VIVAR                224\n",
      "MILTON ALONSO ALVAREZ FUENTES                220\n",
      "LUDVIN RICARDO URRUTIA LORENTI               210\n",
      "JUAN ENRIQUE MARTINEZ SOLANO                 204\n",
      "ABELARDO MEFIBOSET VILLATORO HERRERA         201\n",
      "REMY ARTURO SINAY GUDIEL                     200\n",
      "MARCO TULIO SAMAYOA CARDONA                  187\n",
      "ELVIS BENJAMÍN IXÍM HERNANDEZ                184\n",
      "GLENDY ARACELY GARCÍA PÉREZ                  181\n",
      "VICTOR YAT MAQUIN                            174\n",
      "ZOILA ESTHELA JONFE OROZCO                   174\n",
      "PATRICIO NAJARRO ASENCIO                     168\n",
      "ESTHER AVIGAIL YUMAN ALVIZURES               167\n",
      "RODOLFO MEDINA                               167\n",
      "ROSALBINA SISIMIT PEREN DE SOCOP             164\n",
      "GRELDER ARCELI AGUILAR AVILA                 162\n",
      "Name: count, dtype: Int64\n"
     ]
    }
   ],
   "source": [
    "normalizar_texto(df, \"SUPERVISOR\") \n",
    "resumen_columna(df, \"SUPERVISOR\")"
   ]
  },
  {
   "cell_type": "markdown",
   "id": "047836f2",
   "metadata": {},
   "source": [
    "### **DIRECTOR**"
   ]
  },
  {
   "cell_type": "code",
   "execution_count": 75,
   "id": "c5fdb852",
   "metadata": {},
   "outputs": [],
   "source": [
    "valores_vacios = [\"Â\", \"S/D\", \"---\", \"--\", \"\", \" \", \"   \", None, \"SD\"]\n",
    "\n",
    "df[\"DIRECTOR\"] = df[\"DIRECTOR\"].replace(valores_vacios, \"N/D\")"
   ]
  },
  {
   "cell_type": "code",
   "execution_count": 76,
   "id": "9325ba86",
   "metadata": {},
   "outputs": [
    {
     "name": "stdout",
     "output_type": "stream",
     "text": [
      "\n",
      "=== DIRECTOR ===\n",
      "dtype: string\n",
      "Nulos: 187\n",
      "Únicos (n): 32298\n",
      "Top valores:\n",
      "DIRECTOR\n",
      "N/D                                 246\n",
      "<NA>                                187\n",
      "ANA REBECA MORALES PÉREZ             26\n",
      "NERY EDUARDO VÁSQUEZ ALONZO          25\n",
      "MELVIN RAFAEL REYES LÓPEZ            20\n",
      "ANA VIRGINIA CHOC CABNAL             18\n",
      "EVA JUDITH HERNÁNDEZ MARQUEZ         18\n",
      "AXEL EDUARDO ESTRADA CHÁVEZ          17\n",
      "TEODORA GABRIELA CABNAL VALDIZON     17\n",
      "HÉCTOR REYNALDO GÓMEZ AGUILAR        16\n",
      "JHONATAN EDUARDO SAC CAYAX           16\n",
      "ANTOLIANO RENE FUENTES FUENTES       16\n",
      "SILVIA MARLENI ALVARADO GUARDADO     16\n",
      "LUIS MIGUEL COJOC POP                15\n",
      "MARÍA DOLORES PÉREZ TUCHÁN           15\n",
      "JOSÉ EDWIN VILLARREAL AGUILAR        14\n",
      "MARIA MICAELA OLCOT CHOC             14\n",
      "JAVIER SANCHEZ                       14\n",
      "MARÍA ARACELY HERNÁNDEZ GARCÍA       14\n",
      "GREGORIO EDGAR VALIENTE MARTÍNEZ     14\n",
      "Name: count, dtype: Int64\n"
     ]
    }
   ],
   "source": [
    "normalizar_texto(df, \"DIRECTOR\") \n",
    "resumen_columna(df, \"DIRECTOR\")\n"
   ]
  },
  {
   "cell_type": "markdown",
   "id": "73b7d984",
   "metadata": {},
   "source": [
    "### **NIVEL**"
   ]
  },
  {
   "cell_type": "code",
   "execution_count": 77,
   "id": "a878dbfa",
   "metadata": {},
   "outputs": [
    {
     "name": "stdout",
     "output_type": "stream",
     "text": [
      "\n",
      "=== NIVEL ===\n",
      "dtype: string\n",
      "Nulos: 0\n",
      "Únicos (n): 7\n",
      "Top valores:\n",
      "NIVEL\n",
      "PRIMARIA                20074\n",
      "PARVULOS                13341\n",
      "BASICO                   9815\n",
      "DIVERSIFICADO            6599\n",
      "PREPRIMARIA BILINGUE     4113\n",
      "INICIAL                  2121\n",
      "PRIMARIA DE ADULTOS       394\n",
      "Name: count, dtype: Int64\n"
     ]
    }
   ],
   "source": [
    "normalizar_texto(df, \"NIVEL\")\n",
    "resumen_columna(df, \"NIVEL\")"
   ]
  },
  {
   "cell_type": "markdown",
   "id": "47a9e8a8",
   "metadata": {},
   "source": [
    "### **SECTOR**"
   ]
  },
  {
   "cell_type": "code",
   "execution_count": 78,
   "id": "5c7caa6f",
   "metadata": {},
   "outputs": [
    {
     "name": "stdout",
     "output_type": "stream",
     "text": [
      "\n",
      "=== SECTOR ===\n",
      "dtype: string\n",
      "Nulos: 0\n",
      "Únicos (n): 4\n",
      "Top valores:\n",
      "SECTOR\n",
      "OFICIAL        37687\n",
      "PRIVADO        17086\n",
      "COOPERATIVA     1294\n",
      "MUNICIPAL        390\n",
      "Name: count, dtype: Int64\n"
     ]
    }
   ],
   "source": [
    "normalizar_texto(df, \"SECTOR\")\n",
    "resumen_columna(df, \"SECTOR\")"
   ]
  },
  {
   "cell_type": "markdown",
   "id": "2e112a46",
   "metadata": {},
   "source": [
    "### **AREA**"
   ]
  },
  {
   "cell_type": "code",
   "execution_count": 79,
   "id": "5870e039",
   "metadata": {},
   "outputs": [],
   "source": [
    "valores_vacios = [\"SIN ESPECIFICAR\"]\n",
    "\n",
    "df[\"AREA\"] = df[\"AREA\"].replace(valores_vacios, \"N/D\")"
   ]
  },
  {
   "cell_type": "code",
   "execution_count": 80,
   "id": "42437d40",
   "metadata": {},
   "outputs": [
    {
     "name": "stdout",
     "output_type": "stream",
     "text": [
      "\n",
      "=== AREA ===\n",
      "dtype: string\n",
      "Nulos: 0\n",
      "Únicos (n): 3\n",
      "Top valores:\n",
      "AREA\n",
      "RURAL     37405\n",
      "URBANA    19048\n",
      "N/D           4\n",
      "Name: count, dtype: Int64\n"
     ]
    }
   ],
   "source": [
    "normalizar_texto(df, \"AREA\")\n",
    "resumen_columna(df, \"AREA\")"
   ]
  },
  {
   "cell_type": "markdown",
   "id": "87e7a2e9",
   "metadata": {},
   "source": [
    "### **STATUS**"
   ]
  },
  {
   "cell_type": "code",
   "execution_count": 81,
   "id": "79604244",
   "metadata": {},
   "outputs": [
    {
     "name": "stdout",
     "output_type": "stream",
     "text": [
      "\n",
      "=== STATUS ===\n",
      "dtype: string\n",
      "Nulos: 0\n",
      "Únicos (n): 1\n",
      "Top valores:\n",
      "STATUS\n",
      "ABIERTA    56457\n",
      "Name: count, dtype: Int64\n"
     ]
    }
   ],
   "source": [
    "normalizar_texto(df, \"STATUS\")\n",
    "resumen_columna(df, \"STATUS\")"
   ]
  },
  {
   "cell_type": "markdown",
   "id": "8d1e06c0",
   "metadata": {},
   "source": [
    "### **MODALIDAD**"
   ]
  },
  {
   "cell_type": "code",
   "execution_count": 82,
   "id": "544ba5e6",
   "metadata": {},
   "outputs": [
    {
     "name": "stdout",
     "output_type": "stream",
     "text": [
      "\n",
      "=== MODALIDAD ===\n",
      "dtype: string\n",
      "Nulos: 0\n",
      "Únicos (n): 2\n",
      "Top valores:\n",
      "MODALIDAD\n",
      "MONOLINGUE    42093\n",
      "BILINGUE      14364\n",
      "Name: count, dtype: Int64\n"
     ]
    }
   ],
   "source": [
    "normalizar_texto(df, \"MODALIDAD\")\n",
    "resumen_columna(df, \"MODALIDAD\")"
   ]
  },
  {
   "cell_type": "markdown",
   "id": "9e6a3693",
   "metadata": {},
   "source": [
    "### **JORNADA**"
   ]
  },
  {
   "cell_type": "code",
   "execution_count": 83,
   "id": "cae050d0",
   "metadata": {},
   "outputs": [
    {
     "name": "stdout",
     "output_type": "stream",
     "text": [
      "\n",
      "=== JORNADA ===\n",
      "dtype: string\n",
      "Nulos: 0\n",
      "Únicos (n): 6\n",
      "Top valores:\n",
      "JORNADA\n",
      "MATUTINA       39740\n",
      "VESPERTINA      8179\n",
      "DOBLE           4064\n",
      "SIN JORNADA     4040\n",
      "NOCTURNA         397\n",
      "INTERMEDIA        37\n",
      "Name: count, dtype: Int64\n"
     ]
    }
   ],
   "source": [
    "normalizar_texto(df, \"JORNADA\")\n",
    "resumen_columna(df, \"JORNADA\")"
   ]
  },
  {
   "cell_type": "markdown",
   "id": "bfefaa43",
   "metadata": {},
   "source": [
    "### **PLAN**"
   ]
  },
  {
   "cell_type": "code",
   "execution_count": 84,
   "id": "e91025c6",
   "metadata": {},
   "outputs": [
    {
     "name": "stdout",
     "output_type": "stream",
     "text": [
      "\n",
      "=== PLAN ===\n",
      "dtype: string\n",
      "Nulos: 0\n",
      "Únicos (n): 12\n",
      "Top valores:\n",
      "PLAN\n",
      "DIARIO(REGULAR)                          51256\n",
      "FIN DE SEMANA                             2637\n",
      "SEMIPRESENCIAL (FIN DE SEMANA)             940\n",
      "SEMIPRESENCIAL (UN DÍA A LA SEMANA)        785\n",
      "SEMIPRESENCIAL                             279\n",
      "A DISTANCIA                                258\n",
      "VIRTUAL A DISTANCIA                        150\n",
      "SEMIPRESENCIAL (DOS DÍAS A LA SEMANA)      122\n",
      "SABATINO                                    13\n",
      "MIXTO                                        7\n",
      "DOMINICAL                                    6\n",
      "INTERCALADO                                  4\n",
      "Name: count, dtype: Int64\n"
     ]
    }
   ],
   "source": [
    "normalizar_texto(df, \"PLAN\")\n",
    "resumen_columna(df, \"PLAN\")"
   ]
  },
  {
   "cell_type": "markdown",
   "id": "ed996420",
   "metadata": {},
   "source": [
    "### **DEPARTAMENTAL**"
   ]
  },
  {
   "cell_type": "code",
   "execution_count": 85,
   "id": "04c422aa",
   "metadata": {},
   "outputs": [
    {
     "name": "stdout",
     "output_type": "stream",
     "text": [
      "\n",
      "=== DEPARTAMENTAL ===\n",
      "dtype: string\n",
      "Nulos: 0\n",
      "Únicos (n): 26\n",
      "Top valores:\n",
      "DEPARTAMENTAL\n",
      "ALTA VERAPAZ           4961\n",
      "SAN MARCOS             4347\n",
      "HUEHUETENANGO          4326\n",
      "QUICHÉ                 3173\n",
      "GUATEMALA OCCIDENTE    2718\n",
      "QUETZALTENANGO         2713\n",
      "GUATEMALA SUR          2588\n",
      "PETÉN                  2554\n",
      "CHIQUIMULA             2411\n",
      "GUATEMALA NORTE        2376\n",
      "IZABAL                 2252\n",
      "JUTIAPA                2163\n",
      "CHIMALTENANGO          2162\n",
      "ESCUINTLA              2144\n",
      "SUCHITEPÉQUEZ          1752\n",
      "SOLOLÁ                 1731\n",
      "TOTONICAPÁN            1612\n",
      "RETALHULEU             1506\n",
      "GUATEMALA ORIENTE      1504\n",
      "SANTA ROSA             1464\n",
      "Name: count, dtype: Int64\n"
     ]
    }
   ],
   "source": [
    "normalizar_texto(df, \"DEPARTAMENTAL\")\n",
    "resumen_columna(df, \"DEPARTAMENTAL\")"
   ]
  },
  {
   "cell_type": "markdown",
   "id": "01d1c751",
   "metadata": {},
   "source": [
    "### **TELEFONO**"
   ]
  },
  {
   "cell_type": "code",
   "execution_count": 91,
   "id": "b986ce53",
   "metadata": {},
   "outputs": [
    {
     "name": "stdout",
     "output_type": "stream",
     "text": [
      "[\"'\\\\xa0'\"]\n"
     ]
    }
   ],
   "source": [
    "fantasmas = df[\"TELEFONO\"].unique()\n",
    "fantasmas_limpios = [repr(v) for v in fantasmas if isinstance(v, str) and v.strip() == \"\"]\n",
    "print(fantasmas_limpios)"
   ]
  },
  {
   "cell_type": "code",
   "execution_count": null,
   "id": "e459997f",
   "metadata": {},
   "outputs": [],
   "source": [
    "valores_vacios = [\"Â\", \"S/D\", \"---\", \"--\", \"\", \" \", \"   \", None, '\\xa0', fantasmas_limpios, \"N/D\"]\n",
    "\n",
    "df[\"TELEFONO\"] = df[\"TELEFONO\"].replace(valores_vacios, \"00000000\")\n"
   ]
  },
  {
   "cell_type": "code",
   "execution_count": 104,
   "id": "93820692",
   "metadata": {},
   "outputs": [
    {
     "name": "stdout",
     "output_type": "stream",
     "text": [
      "\n",
      "=== TELEFONO ===\n",
      "dtype: object\n",
      "Nulos: 0\n",
      "Únicos (n): 29391\n",
      "Top valores:\n",
      "TELEFONO\n",
      "00000000    6817\n",
      "79480009     192\n",
      "79510080      84\n",
      "79480019      39\n",
      "79262582      34\n",
      "48118145      26\n",
      "44771847      25\n",
      "54621877      22\n",
      "79465653      21\n",
      "22093200      20\n",
      "41293838      20\n",
      "33348066      20\n",
      "48004143      19\n",
      "79262583      19\n",
      "33070188      18\n",
      "42977623      18\n",
      "32987477      17\n",
      "32657286      17\n",
      "23750057      17\n",
      "49419044      16\n",
      "Name: count, dtype: int64\n"
     ]
    }
   ],
   "source": [
    "resumen_columna(df, \"TELEFONO\")"
   ]
  }
 ],
 "metadata": {
  "kernelspec": {
   "display_name": "Python 3",
   "language": "python",
   "name": "python3"
  },
  "language_info": {
   "codemirror_mode": {
    "name": "ipython",
    "version": 3
   },
   "file_extension": ".py",
   "mimetype": "text/x-python",
   "name": "python",
   "nbconvert_exporter": "python",
   "pygments_lexer": "ipython3",
   "version": "3.11.9"
  }
 },
 "nbformat": 4,
 "nbformat_minor": 5
}
