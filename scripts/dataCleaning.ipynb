{
 "cells": [
  {
   "cell_type": "markdown",
   "id": "bcf3d91a",
   "metadata": {},
   "source": [
    "### **Importacion de Librerias**"
   ]
  },
  {
   "cell_type": "code",
   "execution_count": 14,
   "id": "efbc4fd7",
   "metadata": {},
   "outputs": [],
   "source": [
    "import pandas as pd\n",
    "from IPython.display import Markdown, display"
   ]
  },
  {
   "cell_type": "markdown",
   "id": "28fd9b65",
   "metadata": {},
   "source": [
    "### **Conversion de csv a Df**"
   ]
  },
  {
   "cell_type": "code",
   "execution_count": null,
   "id": "a0962c5c",
   "metadata": {},
   "outputs": [
    {
     "data": {
      "text/plain": [
       "(56457, 18)"
      ]
     },
     "execution_count": 3,
     "metadata": {},
     "output_type": "execute_result"
    }
   ],
   "source": [
    "df = pd.read_csv('data/institutions.csv', encoding='latin1')"
   ]
  },
  {
   "cell_type": "markdown",
   "id": "53b3181f",
   "metadata": {},
   "source": [
    "### Descripción del Dataset:"
   ]
  },
  {
   "cell_type": "code",
   "execution_count": 19,
   "id": "628b8903",
   "metadata": {},
   "outputs": [],
   "source": [
    "shape = df.shape\n",
    "rows = f\"- **`Número de filas (datos crudos):`** {shape[0]}\"\n",
    "columns = f\"- **`Número de variables (columnas):`** {shape[1]}\""
   ]
  },
  {
   "cell_type": "code",
   "execution_count": 20,
   "id": "5eb1ce3d",
   "metadata": {},
   "outputs": [
    {
     "data": {
      "text/markdown": [
       "- **`Número de filas (datos crudos):`** 56457"
      ],
      "text/plain": [
       "<IPython.core.display.Markdown object>"
      ]
     },
     "metadata": {},
     "output_type": "display_data"
    },
    {
     "data": {
      "text/markdown": [
       "- **`Número de variables (columnas):`** 18"
      ],
      "text/plain": [
       "<IPython.core.display.Markdown object>"
      ]
     },
     "metadata": {},
     "output_type": "display_data"
    }
   ],
   "source": [
    "display(Markdown(rows))\n",
    "display(Markdown(columns))"
   ]
  },
  {
   "cell_type": "markdown",
   "id": "1ec31dd3",
   "metadata": {},
   "source": [
    "### Nombres de las variables:\n",
    "1. `Unnamed: 0` (El indice original del archivo al momento de hacer el scrapping)\n",
    "2. `CODIGO`\n",
    "3. `DISTRITO`\n",
    "4. `DEPARTAMENTO`\n",
    "5. `MUNICIPIO`\n",
    "6. `ESTABLECIMIENTO`\n",
    "7. `DIRECCION`\n",
    "8. `TELEFONO`\n",
    "9. `SUPERVISOR`\n",
    "10. `DIRECTOR`\n",
    "11. `NIVEL`\n",
    "12. `SECTOR`\n",
    "13. `AREA`\n",
    "14. `STATUS`\n",
    "15. `MODALIDAD`\n",
    "16. `JORNADA`\n",
    "17. `PLAN`\n",
    "18. `DEPARTAMENTAL`\n"
   ]
  },
  {
   "cell_type": "markdown",
   "id": "4355998a",
   "metadata": {},
   "source": [
    "Antes de realizar limpieza o transformación, observamos los primeros 5 datos crudos:"
   ]
  },
  {
   "cell_type": "code",
   "execution_count": 22,
   "id": "3a219f6d",
   "metadata": {},
   "outputs": [
    {
     "data": {
      "application/vnd.microsoft.datawrangler.viewer.v0+json": {
       "columns": [
        {
         "name": "index",
         "rawType": "int64",
         "type": "integer"
        },
        {
         "name": "Unnamed: 0",
         "rawType": "int64",
         "type": "integer"
        },
        {
         "name": "CODIGO",
         "rawType": "object",
         "type": "string"
        },
        {
         "name": "DISTRITO",
         "rawType": "object",
         "type": "string"
        },
        {
         "name": "DEPARTAMENTO",
         "rawType": "object",
         "type": "string"
        },
        {
         "name": "MUNICIPIO",
         "rawType": "object",
         "type": "string"
        },
        {
         "name": "ESTABLECIMIENTO",
         "rawType": "object",
         "type": "string"
        },
        {
         "name": "DIRECCION",
         "rawType": "object",
         "type": "string"
        },
        {
         "name": "TELEFONO",
         "rawType": "object",
         "type": "string"
        },
        {
         "name": "SUPERVISOR",
         "rawType": "object",
         "type": "string"
        },
        {
         "name": "DIRECTOR",
         "rawType": "object",
         "type": "string"
        },
        {
         "name": "NIVEL",
         "rawType": "object",
         "type": "string"
        },
        {
         "name": "SECTOR",
         "rawType": "object",
         "type": "string"
        },
        {
         "name": "AREA",
         "rawType": "object",
         "type": "string"
        },
        {
         "name": "STATUS",
         "rawType": "object",
         "type": "string"
        },
        {
         "name": "MODALIDAD",
         "rawType": "object",
         "type": "string"
        },
        {
         "name": "JORNADA",
         "rawType": "object",
         "type": "string"
        },
        {
         "name": "PLAN",
         "rawType": "object",
         "type": "string"
        },
        {
         "name": "DEPARTAMENTAL",
         "rawType": "object",
         "type": "string"
        }
       ],
       "ref": "b86fd2cd-fdd3-47ca-923d-62d05df7fc1b",
       "rows": [
        [
         "0",
         "0",
         "12-01-0001-42",
         "12-002",
         "SAN MARCOS",
         "SAN MARCOS",
         "EODP NO. 1 \"FRANCISCA SANDOVAL\"",
         "7A. AVENIDA 5-74 ZONA 2",
         "55315928",
         "AMILSA YAMILETH ESTRADA RODRÃGUEZ",
         "ROXANA ELIZABETH LÃPEZ FUENTES",
         "PARVULOS",
         "OFICIAL",
         "URBANA",
         "ABIERTA",
         "MONOLINGUE",
         "MATUTINA",
         "DIARIO(REGULAR)",
         "SAN MARCOS"
        ],
        [
         "1",
         "1",
         "12-01-0002-42",
         "12-002",
         "SAN MARCOS",
         "SAN MARCOS",
         "EODP NO. 2 'GEORGINA RODAS DE ESCOBAR'",
         "AVE. EL REFORMADOR COLONIA JUSTO RUFINO BARRIOS ZONA 5",
         "42914527",
         "AMILSA YAMILETH ESTRADA RODRÃGUEZ",
         "EMILIA MAXIMINA CARDONA BAUTISTA",
         "PARVULOS",
         "OFICIAL",
         "URBANA",
         "ABIERTA",
         "MONOLINGUE",
         "MATUTINA",
         "DIARIO(REGULAR)",
         "SAN MARCOS"
        ],
        [
         "2",
         "2",
         "12-01-0003-42",
         "12-100",
         "SAN MARCOS",
         "SAN MARCOS",
         "COLEGIO PARTICULAR MIXTO SAGRADO CORAZON",
         "10A. AVENIDA 9-71 ZONA 3",
         "77601164",
         "JORGE EBERTO SOLORZANO SANCHEZ",
         "MAGNOLIA ROSALETT CIFUENTES BARRIOS",
         "PARVULOS",
         "PRIVADO",
         "URBANA",
         "ABIERTA",
         "MONOLINGUE",
         "MATUTINA",
         "DIARIO(REGULAR)",
         "SAN MARCOS"
        ],
        [
         "3",
         "3",
         "12-01-0004-42",
         "12-002",
         "SAN MARCOS",
         "SAN MARCOS",
         "COLEGIO EVANGELICO MIXTO NAZARENO",
         "15 AVENIDA 5-36 ZONA 5",
         "44656690",
         "AMILSA YAMILETH ESTRADA RODRÃGUEZ",
         "ENNA DEL CARMEN GIRÃN RODRÃGUEZ",
         "PARVULOS",
         "PRIVADO",
         "URBANA",
         "ABIERTA",
         "MONOLINGUE",
         "MATUTINA",
         "DIARIO(REGULAR)",
         "SAN MARCOS"
        ],
        [
         "4",
         "4",
         "12-01-0006-42",
         "12-002",
         "SAN MARCOS",
         "SAN MARCOS",
         "COLEGIO \"SAN MARCOS\"",
         "6A. AVENIDA, 4-92 ZONA 2",
         "77604147",
         "AMILSA YAMILETH ESTRADA RODRÃGUEZ",
         "SOR CAROLINA PATRICIA MARTÃNEZ TRUJILLO",
         "PARVULOS",
         "PRIVADO",
         "URBANA",
         "ABIERTA",
         "MONOLINGUE",
         "MATUTINA",
         "DIARIO(REGULAR)",
         "SAN MARCOS"
        ]
       ],
       "shape": {
        "columns": 18,
        "rows": 5
       }
      },
      "text/html": [
       "<div>\n",
       "<style scoped>\n",
       "    .dataframe tbody tr th:only-of-type {\n",
       "        vertical-align: middle;\n",
       "    }\n",
       "\n",
       "    .dataframe tbody tr th {\n",
       "        vertical-align: top;\n",
       "    }\n",
       "\n",
       "    .dataframe thead th {\n",
       "        text-align: right;\n",
       "    }\n",
       "</style>\n",
       "<table border=\"1\" class=\"dataframe\">\n",
       "  <thead>\n",
       "    <tr style=\"text-align: right;\">\n",
       "      <th></th>\n",
       "      <th>Unnamed: 0</th>\n",
       "      <th>CODIGO</th>\n",
       "      <th>DISTRITO</th>\n",
       "      <th>DEPARTAMENTO</th>\n",
       "      <th>MUNICIPIO</th>\n",
       "      <th>ESTABLECIMIENTO</th>\n",
       "      <th>DIRECCION</th>\n",
       "      <th>TELEFONO</th>\n",
       "      <th>SUPERVISOR</th>\n",
       "      <th>DIRECTOR</th>\n",
       "      <th>NIVEL</th>\n",
       "      <th>SECTOR</th>\n",
       "      <th>AREA</th>\n",
       "      <th>STATUS</th>\n",
       "      <th>MODALIDAD</th>\n",
       "      <th>JORNADA</th>\n",
       "      <th>PLAN</th>\n",
       "      <th>DEPARTAMENTAL</th>\n",
       "    </tr>\n",
       "  </thead>\n",
       "  <tbody>\n",
       "    <tr>\n",
       "      <th>0</th>\n",
       "      <td>0</td>\n",
       "      <td>12-01-0001-42</td>\n",
       "      <td>12-002</td>\n",
       "      <td>SAN MARCOS</td>\n",
       "      <td>SAN MARCOS</td>\n",
       "      <td>EODP NO. 1 \"FRANCISCA SANDOVAL\"</td>\n",
       "      <td>7A. AVENIDA 5-74 ZONA 2</td>\n",
       "      <td>55315928</td>\n",
       "      <td>AMILSA YAMILETH ESTRADA RODRÃGUEZ</td>\n",
       "      <td>ROXANA ELIZABETH LÃPEZ FUENTES</td>\n",
       "      <td>PARVULOS</td>\n",
       "      <td>OFICIAL</td>\n",
       "      <td>URBANA</td>\n",
       "      <td>ABIERTA</td>\n",
       "      <td>MONOLINGUE</td>\n",
       "      <td>MATUTINA</td>\n",
       "      <td>DIARIO(REGULAR)</td>\n",
       "      <td>SAN MARCOS</td>\n",
       "    </tr>\n",
       "    <tr>\n",
       "      <th>1</th>\n",
       "      <td>1</td>\n",
       "      <td>12-01-0002-42</td>\n",
       "      <td>12-002</td>\n",
       "      <td>SAN MARCOS</td>\n",
       "      <td>SAN MARCOS</td>\n",
       "      <td>EODP NO. 2 'GEORGINA RODAS DE ESCOBAR'</td>\n",
       "      <td>AVE. EL REFORMADOR COLONIA JUSTO RUFINO BARRIO...</td>\n",
       "      <td>42914527</td>\n",
       "      <td>AMILSA YAMILETH ESTRADA RODRÃGUEZ</td>\n",
       "      <td>EMILIA MAXIMINA CARDONA BAUTISTA</td>\n",
       "      <td>PARVULOS</td>\n",
       "      <td>OFICIAL</td>\n",
       "      <td>URBANA</td>\n",
       "      <td>ABIERTA</td>\n",
       "      <td>MONOLINGUE</td>\n",
       "      <td>MATUTINA</td>\n",
       "      <td>DIARIO(REGULAR)</td>\n",
       "      <td>SAN MARCOS</td>\n",
       "    </tr>\n",
       "    <tr>\n",
       "      <th>2</th>\n",
       "      <td>2</td>\n",
       "      <td>12-01-0003-42</td>\n",
       "      <td>12-100</td>\n",
       "      <td>SAN MARCOS</td>\n",
       "      <td>SAN MARCOS</td>\n",
       "      <td>COLEGIO PARTICULAR MIXTO SAGRADO CORAZON</td>\n",
       "      <td>10A. AVENIDA 9-71 ZONA 3</td>\n",
       "      <td>77601164</td>\n",
       "      <td>JORGE EBERTO SOLORZANO SANCHEZ</td>\n",
       "      <td>MAGNOLIA ROSALETT CIFUENTES BARRIOS</td>\n",
       "      <td>PARVULOS</td>\n",
       "      <td>PRIVADO</td>\n",
       "      <td>URBANA</td>\n",
       "      <td>ABIERTA</td>\n",
       "      <td>MONOLINGUE</td>\n",
       "      <td>MATUTINA</td>\n",
       "      <td>DIARIO(REGULAR)</td>\n",
       "      <td>SAN MARCOS</td>\n",
       "    </tr>\n",
       "    <tr>\n",
       "      <th>3</th>\n",
       "      <td>3</td>\n",
       "      <td>12-01-0004-42</td>\n",
       "      <td>12-002</td>\n",
       "      <td>SAN MARCOS</td>\n",
       "      <td>SAN MARCOS</td>\n",
       "      <td>COLEGIO EVANGELICO MIXTO NAZARENO</td>\n",
       "      <td>15 AVENIDA 5-36 ZONA 5</td>\n",
       "      <td>44656690</td>\n",
       "      <td>AMILSA YAMILETH ESTRADA RODRÃGUEZ</td>\n",
       "      <td>ENNA DEL CARMEN GIRÃN RODRÃGUEZ</td>\n",
       "      <td>PARVULOS</td>\n",
       "      <td>PRIVADO</td>\n",
       "      <td>URBANA</td>\n",
       "      <td>ABIERTA</td>\n",
       "      <td>MONOLINGUE</td>\n",
       "      <td>MATUTINA</td>\n",
       "      <td>DIARIO(REGULAR)</td>\n",
       "      <td>SAN MARCOS</td>\n",
       "    </tr>\n",
       "    <tr>\n",
       "      <th>4</th>\n",
       "      <td>4</td>\n",
       "      <td>12-01-0006-42</td>\n",
       "      <td>12-002</td>\n",
       "      <td>SAN MARCOS</td>\n",
       "      <td>SAN MARCOS</td>\n",
       "      <td>COLEGIO \"SAN MARCOS\"</td>\n",
       "      <td>6A. AVENIDA, 4-92 ZONA 2</td>\n",
       "      <td>77604147</td>\n",
       "      <td>AMILSA YAMILETH ESTRADA RODRÃGUEZ</td>\n",
       "      <td>SOR CAROLINA PATRICIA MARTÃNEZ TRUJILLO</td>\n",
       "      <td>PARVULOS</td>\n",
       "      <td>PRIVADO</td>\n",
       "      <td>URBANA</td>\n",
       "      <td>ABIERTA</td>\n",
       "      <td>MONOLINGUE</td>\n",
       "      <td>MATUTINA</td>\n",
       "      <td>DIARIO(REGULAR)</td>\n",
       "      <td>SAN MARCOS</td>\n",
       "    </tr>\n",
       "  </tbody>\n",
       "</table>\n",
       "</div>"
      ],
      "text/plain": [
       "   Unnamed: 0         CODIGO DISTRITO DEPARTAMENTO   MUNICIPIO  \\\n",
       "0           0  12-01-0001-42   12-002   SAN MARCOS  SAN MARCOS   \n",
       "1           1  12-01-0002-42   12-002   SAN MARCOS  SAN MARCOS   \n",
       "2           2  12-01-0003-42   12-100   SAN MARCOS  SAN MARCOS   \n",
       "3           3  12-01-0004-42   12-002   SAN MARCOS  SAN MARCOS   \n",
       "4           4  12-01-0006-42   12-002   SAN MARCOS  SAN MARCOS   \n",
       "\n",
       "                            ESTABLECIMIENTO  \\\n",
       "0           EODP NO. 1 \"FRANCISCA SANDOVAL\"   \n",
       "1    EODP NO. 2 'GEORGINA RODAS DE ESCOBAR'   \n",
       "2  COLEGIO PARTICULAR MIXTO SAGRADO CORAZON   \n",
       "3         COLEGIO EVANGELICO MIXTO NAZARENO   \n",
       "4                      COLEGIO \"SAN MARCOS\"   \n",
       "\n",
       "                                           DIRECCION  TELEFONO  \\\n",
       "0                            7A. AVENIDA 5-74 ZONA 2  55315928   \n",
       "1  AVE. EL REFORMADOR COLONIA JUSTO RUFINO BARRIO...  42914527   \n",
       "2                           10A. AVENIDA 9-71 ZONA 3  77601164   \n",
       "3                             15 AVENIDA 5-36 ZONA 5  44656690   \n",
       "4                           6A. AVENIDA, 4-92 ZONA 2  77604147   \n",
       "\n",
       "                           SUPERVISOR  \\\n",
       "0  AMILSA YAMILETH ESTRADA RODRÃGUEZ   \n",
       "1  AMILSA YAMILETH ESTRADA RODRÃGUEZ   \n",
       "2      JORGE EBERTO SOLORZANO SANCHEZ   \n",
       "3  AMILSA YAMILETH ESTRADA RODRÃGUEZ   \n",
       "4  AMILSA YAMILETH ESTRADA RODRÃGUEZ   \n",
       "\n",
       "                                   DIRECTOR     NIVEL   SECTOR    AREA  \\\n",
       "0           ROXANA ELIZABETH LÃPEZ FUENTES  PARVULOS  OFICIAL  URBANA   \n",
       "1          EMILIA MAXIMINA CARDONA BAUTISTA  PARVULOS  OFICIAL  URBANA   \n",
       "2       MAGNOLIA ROSALETT CIFUENTES BARRIOS  PARVULOS  PRIVADO  URBANA   \n",
       "3         ENNA DEL CARMEN GIRÃN RODRÃGUEZ  PARVULOS  PRIVADO  URBANA   \n",
       "4  SOR CAROLINA PATRICIA MARTÃNEZ TRUJILLO  PARVULOS  PRIVADO  URBANA   \n",
       "\n",
       "    STATUS   MODALIDAD   JORNADA             PLAN DEPARTAMENTAL  \n",
       "0  ABIERTA  MONOLINGUE  MATUTINA  DIARIO(REGULAR)    SAN MARCOS  \n",
       "1  ABIERTA  MONOLINGUE  MATUTINA  DIARIO(REGULAR)    SAN MARCOS  \n",
       "2  ABIERTA  MONOLINGUE  MATUTINA  DIARIO(REGULAR)    SAN MARCOS  \n",
       "3  ABIERTA  MONOLINGUE  MATUTINA  DIARIO(REGULAR)    SAN MARCOS  \n",
       "4  ABIERTA  MONOLINGUE  MATUTINA  DIARIO(REGULAR)    SAN MARCOS  "
      ]
     },
     "execution_count": 22,
     "metadata": {},
     "output_type": "execute_result"
    }
   ],
   "source": [
    "df.head()"
   ]
  },
  {
   "cell_type": "code",
   "execution_count": 21,
   "id": "b5f22953",
   "metadata": {},
   "outputs": [
    {
     "data": {
      "application/vnd.microsoft.datawrangler.viewer.v0+json": {
       "columns": [
        {
         "name": "index",
         "rawType": "object",
         "type": "string"
        },
        {
         "name": "0",
         "rawType": "object",
         "type": "unknown"
        }
       ],
       "ref": "e11d2187-6824-4a97-8bb1-4a7bd49e14e1",
       "rows": [
        [
         "Unnamed: 0",
         "int64"
        ],
        [
         "CODIGO",
         "object"
        ],
        [
         "DISTRITO",
         "object"
        ],
        [
         "DEPARTAMENTO",
         "object"
        ],
        [
         "MUNICIPIO",
         "object"
        ],
        [
         "ESTABLECIMIENTO",
         "object"
        ],
        [
         "DIRECCION",
         "object"
        ],
        [
         "TELEFONO",
         "object"
        ],
        [
         "SUPERVISOR",
         "object"
        ],
        [
         "DIRECTOR",
         "object"
        ],
        [
         "NIVEL",
         "object"
        ],
        [
         "SECTOR",
         "object"
        ],
        [
         "AREA",
         "object"
        ],
        [
         "STATUS",
         "object"
        ],
        [
         "MODALIDAD",
         "object"
        ],
        [
         "JORNADA",
         "object"
        ],
        [
         "PLAN",
         "object"
        ],
        [
         "DEPARTAMENTAL",
         "object"
        ]
       ],
       "shape": {
        "columns": 1,
        "rows": 18
       }
      },
      "text/plain": [
       "Unnamed: 0          int64\n",
       "CODIGO             object\n",
       "DISTRITO           object\n",
       "DEPARTAMENTO       object\n",
       "MUNICIPIO          object\n",
       "ESTABLECIMIENTO    object\n",
       "DIRECCION          object\n",
       "TELEFONO           object\n",
       "SUPERVISOR         object\n",
       "DIRECTOR           object\n",
       "NIVEL              object\n",
       "SECTOR             object\n",
       "AREA               object\n",
       "STATUS             object\n",
       "MODALIDAD          object\n",
       "JORNADA            object\n",
       "PLAN               object\n",
       "DEPARTAMENTAL      object\n",
       "dtype: object"
      ]
     },
     "execution_count": 21,
     "metadata": {},
     "output_type": "execute_result"
    }
   ],
   "source": [
    "df.dtypes"
   ]
  },
  {
   "cell_type": "markdown",
   "id": "8e328a23",
   "metadata": {},
   "source": [
    "El dataset está compuesto por 18 columnas, de las cuales 17 son de tipo texto y 1 es de tipo numérico entero"
   ]
  },
  {
   "cell_type": "markdown",
   "id": "df2366e7",
   "metadata": {},
   "source": [
    "Datos unicos por columna:"
   ]
  },
  {
   "cell_type": "code",
   "execution_count": 23,
   "id": "27c9e384",
   "metadata": {},
   "outputs": [
    {
     "data": {
      "application/vnd.microsoft.datawrangler.viewer.v0+json": {
       "columns": [
        {
         "name": "index",
         "rawType": "object",
         "type": "string"
        },
        {
         "name": "0",
         "rawType": "int64",
         "type": "integer"
        }
       ],
       "ref": "519e2c75-0270-42d1-8f69-c3dc53d96e58",
       "rows": [
        [
         "Unnamed: 0",
         "56457"
        ],
        [
         "CODIGO",
         "56457"
        ],
        [
         "DISTRITO",
         "841"
        ],
        [
         "DEPARTAMENTO",
         "23"
        ],
        [
         "MUNICIPIO",
         "356"
        ],
        [
         "ESTABLECIMIENTO",
         "14149"
        ],
        [
         "DIRECCION",
         "30377"
        ],
        [
         "TELEFONO",
         "29393"
        ],
        [
         "SUPERVISOR",
         "802"
        ],
        [
         "DIRECTOR",
         "32343"
        ],
        [
         "NIVEL",
         "7"
        ],
        [
         "SECTOR",
         "4"
        ],
        [
         "AREA",
         "3"
        ],
        [
         "STATUS",
         "1"
        ],
        [
         "MODALIDAD",
         "2"
        ],
        [
         "JORNADA",
         "6"
        ],
        [
         "PLAN",
         "12"
        ],
        [
         "DEPARTAMENTAL",
         "26"
        ]
       ],
       "shape": {
        "columns": 1,
        "rows": 18
       }
      },
      "text/plain": [
       "Unnamed: 0         56457\n",
       "CODIGO             56457\n",
       "DISTRITO             841\n",
       "DEPARTAMENTO          23\n",
       "MUNICIPIO            356\n",
       "ESTABLECIMIENTO    14149\n",
       "DIRECCION          30377\n",
       "TELEFONO           29393\n",
       "SUPERVISOR           802\n",
       "DIRECTOR           32343\n",
       "NIVEL                  7\n",
       "SECTOR                 4\n",
       "AREA                   3\n",
       "STATUS                 1\n",
       "MODALIDAD              2\n",
       "JORNADA                6\n",
       "PLAN                  12\n",
       "DEPARTAMENTAL         26\n",
       "dtype: int64"
      ]
     },
     "execution_count": 23,
     "metadata": {},
     "output_type": "execute_result"
    }
   ],
   "source": [
    "df.nunique()"
   ]
  },
  {
   "cell_type": "markdown",
   "id": "01494b5f",
   "metadata": {},
   "source": [
    "Resumen estructural del conjunto de datos:"
   ]
  },
  {
   "cell_type": "code",
   "execution_count": 24,
   "id": "f84b3e37",
   "metadata": {},
   "outputs": [
    {
     "name": "stdout",
     "output_type": "stream",
     "text": [
      "<class 'pandas.core.frame.DataFrame'>\n",
      "RangeIndex: 56457 entries, 0 to 56456\n",
      "Data columns (total 18 columns):\n",
      " #   Column           Non-Null Count  Dtype \n",
      "---  ------           --------------  ----- \n",
      " 0   Unnamed: 0       56457 non-null  int64 \n",
      " 1   CODIGO           56457 non-null  object\n",
      " 2   DISTRITO         56457 non-null  object\n",
      " 3   DEPARTAMENTO     56457 non-null  object\n",
      " 4   MUNICIPIO        56457 non-null  object\n",
      " 5   ESTABLECIMIENTO  56457 non-null  object\n",
      " 6   DIRECCION        56457 non-null  object\n",
      " 7   TELEFONO         56457 non-null  object\n",
      " 8   SUPERVISOR       56457 non-null  object\n",
      " 9   DIRECTOR         56457 non-null  object\n",
      " 10  NIVEL            56457 non-null  object\n",
      " 11  SECTOR           56457 non-null  object\n",
      " 12  AREA             56457 non-null  object\n",
      " 13  STATUS           56457 non-null  object\n",
      " 14  MODALIDAD        56457 non-null  object\n",
      " 15  JORNADA          56457 non-null  object\n",
      " 16  PLAN             56457 non-null  object\n",
      " 17  DEPARTAMENTAL    56457 non-null  object\n",
      "dtypes: int64(1), object(17)\n",
      "memory usage: 7.8+ MB\n"
     ]
    }
   ],
   "source": [
    "df.info()"
   ]
  },
  {
   "cell_type": "markdown",
   "id": "e02826fa",
   "metadata": {},
   "source": [
    "### **Lista de Variables que más operaciones de limpieza necesitaran**\n",
    "1. `ESTABLECIMIENTO`\n",
    "2. `TELEFONO`\n",
    "3. `DIRECCION`\n"
   ]
  },
  {
   "cell_type": "markdown",
   "id": "aa9bc8a2",
   "metadata": {},
   "source": [
    "### **Estrategia de Limpieza del Conjunto de Datos**\n",
    "\n",
    "1. **Para la variable `Unnamed: 0` se planea:**\n",
    "   - Eliminar completamente esta columna, ya que representa un índice redundante generado al momento de exportar el archivo original. Su presencia puede generar confusión y no aporta valor analítico.\n",
    "\n",
    "2. **Para la variable `CODIGO` se planea:**\n",
    "   - Convertir a tipo `string`.\n",
    "   - Verificar que no haya datos nulos.\n",
    "   - Verificar los valores únicos presentes para detectar anomalías.\n",
    "\n",
    "3. **Para la variable `DISTRITO` se planea:**\n",
    "   - Convertir a tipo `string`.\n",
    "   - Verificar que no haya datos nulos.\n",
    "   - Convertir a mayúsculas.\n",
    "   - Eliminar espacios extra.\n",
    "   - Verificar los valores únicos presentes para detectar anomalías.\n",
    "\n",
    "4. **Para la variable `DEPARTAMENTO` se planea:**\n",
    "   - Convertir a tipo `string`.\n",
    "   - Verificar que no haya datos nulos.\n",
    "   - Convertir a mayúsculas.\n",
    "   - Eliminar espacios extra.\n",
    "   - Revisar errores ortográficos o cambios de letras.\n",
    "   - Verificar los valores únicos presentes para detectar anomalía.\n",
    "\n",
    "5. **Para la variable `MUNICIPIO` se planea:**\n",
    "   - Convertir a tipo `string`.\n",
    "   - Verificar que no haya datos nulos.\n",
    "   - Convertir a mayúsculas.\n",
    "   - Eliminar espacios extra.\n",
    "   - Revisar errores ortográficos.\n",
    "   - Verificar los valores únicos presentes para detectar anomalías.\n",
    "\n",
    "6. **Para la variable `ESTABLECIMIENTO` se planea:**\n",
    "   - Convertir a tipo `string`.\n",
    "   - Verificar que no haya datos nulos.\n",
    "   - Convertir a mayúsculas.\n",
    "   - Eliminar espacios extra.\n",
    "   - Revisar errores ortográficos.\n",
    "   - Verificar los valores únicos presentes para detectar anomalías.\n",
    "\n",
    "7. **Para la variable `DIRECCION` se planea:**\n",
    "   - Convertir a tipo `string`.\n",
    "   - Verificar que no haya datos nulos.\n",
    "   - Convertir a mayúsculas.\n",
    "   - Eliminar espacios innecesarios.\n",
    "   - Verificar valores únicos en busca de direcciones incompletas o erróneas.\n",
    "\n",
    "8. **Para la variable `SUPERVISOR` se planea:**\n",
    "   - Convertir a tipo `string`.\n",
    "   - Verificar que no haya datos nulos.\n",
    "   - Convertir a mayúsculas.\n",
    "   - Verificar valores únicos para detectar para detectar anomalías.\n",
    "\n",
    "9. **Para la variable `DIRECTOR` se planea:**\n",
    "   - Convertir a tipo `string`.\n",
    "   - Verificar que no haya datos nulos.\n",
    "   - Convertir a mayúsculas.\n",
    "   - Verificar valores únicos para detectar para detectar anomalías.\n",
    "\n",
    "10. **Para la variable `NIVEL` se planea:**\n",
    "   - Convertir a tipo `string`.\n",
    "   - Verificar que no haya datos nulos.\n",
    "   - Filtrar únicamente los niveles: preprimaria, primaria, básico y diversificado.\n",
    "   - Convertir a mayúsculas.\n",
    "   - Verificar valores únicos para detectar para detectar anomalías.\n",
    "\n",
    "11. **Para la variable `SECTOR` se planea:**\n",
    "   - Convertir a tipo `string`.\n",
    "   - Verificar que no haya datos nulos.\n",
    "   - Convertir a mayúsculas.\n",
    "   - Verificar valores únicos para detectar para detectar anomalías.\n",
    "\n",
    "12. **Para la variable `AREA` se planea:**\n",
    "   - Convertir a tipo `string`.\n",
    "   - Verificar que no haya datos nulos.\n",
    "   - Convertir a mayúsculas.\n",
    "   - Verificar valores únicos para detectar para detectar anomalías.\n",
    "\n",
    "13. **Para la variable `STATUS` se planea:**\n",
    "   - Convertir a tipo `string`.\n",
    "   - Verificar que no haya datos nulos.\n",
    "   - Convertir a mayúsculas.\n",
    "   - Verificar valores únicos para detectar para detectar anomalías.\n",
    "\n",
    "14. **Para la variable `MODALIDAD` se planea:**\n",
    "   - Convertir a tipo `string`.\n",
    "   - Verificar que no haya datos nulos.\n",
    "   - Convertir a mayúsculas.\n",
    "   - Verificar valores únicos para detectar para detectar anomalías.\n",
    "\n",
    "15. **Para la variable `JORNADA` se planea:**\n",
    "   - Convertir a tipo `string`.\n",
    "   - Convertir a mayúsculas.\n",
    "   - Eliminar espacios adicionales.\n",
    "   - Verificar los valores únicos para detectar variaciones innecesarias (\"MATUTINA\", \"MATUTINO\", etc.).\n",
    "\n",
    "16. **Para la variable `PLAN` se planea:**\n",
    "   - Convertir a tipo `string`.\n",
    "   - Verificar que no haya datos nulos.\n",
    "   - Convertir a mayúsculas.\n",
    "   - Verificar valores únicos para detectar para detectar anomalías.\n",
    "\n",
    "17. **Para la variable `DEPARTAMENTAL` se planea:**\n",
    "   - Convertir a tipo `string`.\n",
    "   - Verificar que no haya datos nulos.\n",
    "   - Convertir a mayúsculas.\n",
    "   - Verificar valores únicos para detectar para detectar anomalías.\n",
    "\n",
    "18. **Para la variable `TELEFONO` se planea:**\n",
    "   - Convertir a tipo `Int64` \n",
    "   - Eliminar caracteres no numéricos si existieran.\n",
    "   - Verificar que no haya datos nulos\n"
   ]
  },
  {
   "cell_type": "markdown",
   "id": "418cdd00",
   "metadata": {},
   "source": []
  }
 ],
 "metadata": {
  "kernelspec": {
   "display_name": "Python 3",
   "language": "python",
   "name": "python3"
  },
  "language_info": {
   "codemirror_mode": {
    "name": "ipython",
    "version": 3
   },
   "file_extension": ".py",
   "mimetype": "text/x-python",
   "name": "python",
   "nbconvert_exporter": "python",
   "pygments_lexer": "ipython3",
   "version": "3.11.9"
  }
 },
 "nbformat": 4,
 "nbformat_minor": 5
}
